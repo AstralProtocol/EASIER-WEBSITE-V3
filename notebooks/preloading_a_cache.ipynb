{
  "nbformat": 4,
  "nbformat_minor": 0,
  "metadata": {
    "colab": {
      "provenance": []
    },
    "kernelspec": {
      "name": "python3",
      "display_name": "Python 3"
    },
    "language_info": {
      "name": "python"
    }
  },
  "cells": [
    {
      "cell_type": "markdown",
      "source": [
        "# Introduction"
      ],
      "metadata": {
        "id": "fZXq9V27_yGH"
      }
    },
    {
      "cell_type": "markdown",
      "source": [
        "A tiered storage system will have a hot and cold storage layer. Upon the initialization of the system, the hot layer (or cache) will be empty. This demo will show that prepopulating the cache, with randomly selected geospatial data can improve the long term performance of the system for most applications."
      ],
      "metadata": {
        "id": "fgtcNztk_Htr"
      }
    },
    {
      "cell_type": "markdown",
      "source": [
        "**How is this storage system set up?**"
      ],
      "metadata": {
        "id": "0pqQpi31AXoj"
      }
    },
    {
      "cell_type": "markdown",
      "source": [
        "For this experiment, there are two layers where geospatial data in the form of landsat scenes can reside: the cold storage layer and the hot storage layer. The hot storage layer is constructed as a least recently used cache."
      ],
      "metadata": {
        "id": "tAlc7B3FA9th"
      }
    },
    {
      "cell_type": "markdown",
      "source": [
        "**What data is being used?**"
      ],
      "metadata": {
        "id": "-lghT0rVBxnP"
      }
    },
    {
      "cell_type": "markdown",
      "source": [
        "The data that is used in this experiment are landsat scenes within the continental US. These data cannot be divided, therefore one landsat scene must reside in either the cold storage layer or the least recently used cache."
      ],
      "metadata": {
        "id": "VgwkeE2wB0JZ"
      }
    },
    {
      "cell_type": "markdown",
      "source": [
        "**How is data requested?**"
      ],
      "metadata": {
        "id": "SpiV3n9NDPGR"
      }
    },
    {
      "cell_type": "markdown",
      "source": [
        "Requests for data can be of three forms. A region, a state, or a county. When a request for either of these three sets is placed, the system will determine which landsat scenes encompass the request in its entirety, then move these scenes to the least recently used cache."
      ],
      "metadata": {
        "id": "d3bpOFF0DRED"
      }
    },
    {
      "cell_type": "markdown",
      "source": [
        "**What is a least recently used cache?**"
      ],
      "metadata": {
        "id": "MZUlDo3RCCXY"
      }
    },
    {
      "cell_type": "markdown",
      "source": [
        "A least recently used or LRU cache is a cache system which is based on a stack. When data are retrieved from the cache, these data are moved to the bottom of the stack. When new data are placed in the cache, these new data take the place of data at the top of the stack, which is popped off.\n",
        "\n",
        "Effectively, this means that the cache will maintain data which are frequently requested. Data which was requested the least recently is what will be removed first to make room for new data."
      ],
      "metadata": {
        "id": "zKXWKrPCCFWK"
      }
    },
    {
      "cell_type": "markdown",
      "source": [
        "# The experiment"
      ],
      "metadata": {
        "id": "mmudaGsoDJF2"
      }
    },
    {
      "cell_type": "markdown",
      "source": [
        "The primary goal of this experiment is to determine what nuances, if any occur when the cache is empty at the start of the simulation and to provide a narrative explanation of why these nuances occur.\n",
        "\n",
        "The secondary goal of this experiment is to determine under what conditions these nuances will dissapear."
      ],
      "metadata": {
        "id": "6YWlgQDaDK7v"
      }
    },
    {
      "cell_type": "markdown",
      "source": [
        "To reproduce these results on your machine follow along with the accompanying steps"
      ],
      "metadata": {
        "id": "qOTgJqFRFRYQ"
      }
    },
    {
      "cell_type": "markdown",
      "source": [
        "This project uses [Poetry](https://python-poetry.org/) for dependency management. To install all necessary dependencies, follow these steps:\n",
        "\n",
        "1. Install Poetry if you haven't already:\n",
        "\n",
        "   ```bash\n",
        "   curl -sSL https://install.python-poetry.org | python3 -\n",
        "   ```\n",
        "2. Clone the repository:\n",
        "\n",
        "   ```bash\n",
        "   git clone https://github.com/your-username/Hot-Cold-Simulation.git\n",
        "   cd Hot-Cold-Simulation\n",
        "   ```\n",
        "3. Install the dependencies:\n",
        "\n",
        "   ```bash\n",
        "   poetry install\n",
        "   ```\n",
        "4. Generate the configuration files necessary to run certain portions of this project.\n",
        "\n",
        "   ```bash\n",
        "   poetry run generate-config\n",
        "   ```\n",
        "5. We will be manually adjusting the configuration files for the two different runs of our simulation. Take note of the `./config` directory"
      ],
      "metadata": {
        "id": "seXmPa0UFsd7"
      }
    },
    {
      "cell_type": "markdown",
      "source": [
        "# Simulation 1: Not preloading the cache"
      ],
      "metadata": {
        "id": "KJiYM5BdFtRd"
      }
    },
    {
      "cell_type": "markdown",
      "source": [
        "First we will run the simulation with the LRUcache empty to start"
      ],
      "metadata": {
        "id": "yWZ2ahh6HY_b"
      }
    },
    {
      "cell_type": "markdown",
      "source": [
        "1. Navigate to the `./config` directory and set the parameters as follows:\n",
        "\n",
        "```\n",
        "cache_param_increment=20\n",
        "cache_type=LRUCache\n",
        "hot_layer_constraint=310\n",
        "num_requests=100\n",
        "num_runs=8\n",
        "prepopulate_cache=False\n",
        "return_type=requests\n",
        "step_size=0.05\n",
        "```\n",
        "\n",
        "2. Now execute the simulation with the following command in your terminal\n",
        "\n",
        "```bash\n",
        "run-analysis\n",
        "```\n",
        "\n",
        "> **Note**: Increasing the `num_runs` parameter will decrease noise within your result but will take longer to execute. For a more granular view of different size caches, decrease the `cache_param_increment` parameter."
      ],
      "metadata": {
        "id": "cm4HhX0_GivG"
      }
    },
    {
      "cell_type": "markdown",
      "source": [
        "# Simulation 2: Preloading the cache"
      ],
      "metadata": {
        "id": "UXjxVAzxGjn5"
      }
    },
    {
      "cell_type": "markdown",
      "source": [
        "Now we will prepopulate the LRUcache in its entirety with randomly selected landsat scenes at the start of the simulation"
      ],
      "metadata": {
        "id": "Ne92pN1mHdyo"
      }
    },
    {
      "cell_type": "markdown",
      "source": [
        "1. Navigate to the `./config` directory and set the parameters as follows:\n",
        "\n",
        "```\n",
        "cache_param_increment=20\n",
        "cache_type=LRUCache\n",
        "hot_layer_constraint=310\n",
        "num_requests=100\n",
        "num_runs=8\n",
        "prepopulate_cache=False\n",
        "return_type=requests\n",
        "step_size=0.05\n",
        "```\n",
        "\n",
        "2. Now execute the simulation with the following command in your terminal\n",
        "\n",
        "```bash\n",
        "run-analysis\n",
        "```\n",
        "\n",
        "> **Note**: Increasing the `num_runs` parameter will decrease noise within your result but will take longer to execute. For a more granular view of different size caches, decrease the `cache_param_increment` parameter."
      ],
      "metadata": {
        "id": "j13R-sWLGnXg"
      }
    },
    {
      "cell_type": "markdown",
      "source": [
        "# Results and Discussion"
      ],
      "metadata": {
        "id": "R84vtHd6Gnvd"
      }
    },
    {
      "cell_type": "markdown",
      "source": [
        "Under Simulation 1, the highest level of efficiency occurs with a higher proportion of larger sized requests vs smaller sized requests.\n",
        "\n",
        "This suggests that as the simulation processes its runs and averages the results, the results are skewed to include more larger requests to maximize efficiency.\n",
        "\n",
        "This is because the cache is empty to start. The simulation wants the cache to be completely populated as soon as possible, therefore the higher proportion of larger requests will populate the cache to its maximum size more quickly.\n",
        "\n",
        "Consequently, under Simulation 2, we see that the smallest request size, in this case, counties, results in the highest level of efficiency. This intuitively makes sense, as the specific data being requested is uniformly distributed. Therefore if the cache's data is skewed geographically, i.e. the cache contains one or two regions, efficiency drops.\n",
        "\n",
        "Therefore prepopulating the cache results in the scenario where the highest level of efficiency is obtained under the request parameters most likely to occur in application. This is, when requests for data are small and random."
      ],
      "metadata": {
        "id": "TV5q2qXMGpgn"
      }
    }
  ]
}