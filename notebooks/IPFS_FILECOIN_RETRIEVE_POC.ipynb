{
 "cells": [
  {
   "attachments": {},
   "cell_type": "markdown",
   "metadata": {},
   "source": [
    "# A Proof of Concept for IPFS & Filecoin Retrieval\n"
   ]
  },
  {
   "attachments": {},
   "cell_type": "markdown",
   "metadata": {},
   "source": [
    "## Introduction\n",
    "\n",
    "WIP\n"
   ]
  },
  {
   "attachments": {},
   "cell_type": "markdown",
   "metadata": {},
   "source": [
    "## Imports\n"
   ]
  },
  {
   "cell_type": "code",
   "execution_count": 1,
   "metadata": {},
   "outputs": [],
   "source": [
    "import subprocess\n",
    "import requests\n",
    "import random"
   ]
  },
  {
   "attachments": {},
   "cell_type": "markdown",
   "metadata": {},
   "source": [
    "## Existing Functions\n"
   ]
  },
  {
   "cell_type": "code",
   "execution_count": 2,
   "metadata": {},
   "outputs": [],
   "source": [
    "def check_ipfs_installed() -> bool:\n",
    "    try:\n",
    "        ipfs_present = subprocess.check_output([\"ipfs\", \"version\"]).decode(\"utf-8\")\n",
    "        print(f\"Local IPFS Node Detected! {ipfs_present}\")\n",
    "\n",
    "    except subprocess.CalledProcessError:\n",
    "        return False  # Return False to indicate that IPFS is not installed\n",
    "\n",
    "    return (\n",
    "        True  # Return True to indicate that IPFS is installed and the daemon is running\n",
    "    )\n",
    "\n",
    "\n",
    "def check_ipfs_daemon_running() -> bool:\n",
    "    try:\n",
    "        subprocess.check_output([\"ipfs\", \"swarm\", \"peers\"]).decode(\n",
    "            \"utf-8\"\n",
    "        )  # Check if daemon is running by checking if we can connect to peers\n",
    "    except subprocess.CalledProcessError:\n",
    "        return False  # Return False to indicate that the daemon is not running\n",
    "\n",
    "    return True  # Return True to indicate that the daemon is running\n",
    "\n",
    "\n",
    "def get_data_from_local_ipfs_node(cid: str) -> bytes:\n",
    "    \"\"\"\n",
    "    Fetches data from local IPFS node. If CID is not found on local node, it will attempt to fetch from IPFS network via local node.\n",
    "    \"\"\"\n",
    "    try:  # Check if CID is on local IPFS node\n",
    "        subprocess.check_output([\"ipfs\", \"pin\", \"ls\", cid])\n",
    "        print(f\"CID: {cid} found in local IPFS node\")\n",
    "        data = subprocess.check_output([\"ipfs\", \"cat\", cid])\n",
    "        return data\n",
    "    except subprocess.CalledProcessError:\n",
    "        print(\n",
    "            f\"CID: {cid} not found in local IPFS node. Attempting to fetch from IPFS network via local node.\"\n",
    "        )\n",
    "        try:\n",
    "            if (\n",
    "                not check_ipfs_daemon_running()\n",
    "            ):  # Check if IPFS daemon is running since we need it to fetch from IPFS network.\n",
    "                print(\n",
    "                    \"IPFS daemon not running. Please start IPFS daemon by running 'ipfs daemon' or installing the IPFS desktop app and starting it.\"\n",
    "                )\n",
    "                return None\n",
    "            data = subprocess.check_output([\"ipfs\", \"cat\", cid])\n",
    "            print(f\"CID: {cid} found on IPFS network via local IPFS node.\")\n",
    "            print(\"Pinning CID to local IPFS node\")\n",
    "            print(subprocess.check_output([\"ipfs\", \"pin\", \"add\", cid]))\n",
    "        except subprocess.CalledProcessError:\n",
    "            return None\n",
    "    return data\n",
    "\n",
    "\n",
    "def get_data_from_ipfs_network_using_gateway(cid: str) -> bytes:\n",
    "    try:\n",
    "        data = requests.get(f\"https://ipfs.io/ipfs/{cid}\").content\n",
    "        print(f\"CID: {cid} found on IPFS network via Gateway\")\n",
    "        return data\n",
    "    except requests.exceptions.RequestException as e:\n",
    "        return None\n",
    "\n",
    "# -------------------------- NEW CODE STARTS HERE --------------------------\n",
    "\n",
    "def get_data_from_filecoin(cid: str) -> bytes:\n",
    "    # We use a network indexer (cid.contact) to find the storage providers that have the CID we are looking for in a storage deal\n",
    "    api_endpoint = f\"https://cid.contact/cid/{cid}\" \n",
    "    response = requests.get(api_endpoint)\n",
    "\n",
    "    if response.status_code == 200:\n",
    "        data = response.json()\n",
    "        storage_providers = data[\"MultihashResults\"][0][\"ProviderResults\"]\n",
    "\n",
    "        # Randomly shuffle the storage providers to select one at random\n",
    "        random.shuffle(storage_providers)\n",
    "\n",
    "        # Iterate over the shuffled list of storage providers\n",
    "        for storage_provider in storage_providers:\n",
    "            storage_provider_id = storage_provider[\"Provider\"][\"ID\"]\n",
    "            print(f\"Trying Storage Provider ID: {storage_provider_id} found via cid.contact API\")\n",
    "\n",
    "            # Try to get the data from the storage provider\n",
    "            provider_data = request_data_from_storage_provider(storage_provider_id, cid)\n",
    "\n",
    "            # If we successfully got data, return it\n",
    "            if provider_data:\n",
    "                return provider_data\n",
    "            else:\n",
    "                print(f\"Unable to get data from Storage Provider ID: {storage_provider_id}\")\n",
    "\n",
    "        # If we've gone through all storage providers and haven't found the data, return None\n",
    "        print(\"Unable to find data with any storage provider\")\n",
    "        return None\n",
    "    else:\n",
    "        print(f\"Error: Received status code {response.status_code} from CID contact API\")\n",
    "        return None\n",
    "\n",
    "\n",
    "# Theoretical code to request data from a storage provider\n",
    "def request_data_from_storage_provider(provider_id: str, cid: str) -> bytes:\n",
    "    # Import necessary libraries\n",
    "    import graphsync\n",
    "    import libp2p\n",
    "\n",
    "    # Assuming we have an established libp2p host\n",
    "    host = libp2p.Host()\n",
    "\n",
    "    # Graphsync instance\n",
    "    gs = graphsync.Graphsync(host)\n",
    "\n",
    "    # Create the selector for the data\n",
    "    selector = {\"cid\": cid, \"depth\": 1}\n",
    "\n",
    "    # Request the data from the provider\n",
    "    responses = gs.request(provider_id, selector)\n",
    "\n",
    "    # Wait for the data\n",
    "    for response in responses:\n",
    "        if response.status == graphsync.Status.SUCCESS:\n",
    "            # This assumes that the data is small enough to fit in memory\n",
    "            # and that the data is in the format you expect\n",
    "            data = response.data\n",
    "            return data\n",
    "\n",
    "        else:\n",
    "            print(f\"Error: Received status code {response.status} from storage provider\")\n",
    "            return None\n"
   ]
  },
  {
   "attachments": {},
   "cell_type": "markdown",
   "metadata": {},
   "source": [
    "## Main Function\n"
   ]
  },
  {
   "cell_type": "code",
   "execution_count": 4,
   "metadata": {},
   "outputs": [
    {
     "name": "stdout",
     "output_type": "stream",
     "text": [
      "Local IPFS Node Detected! ipfs version 0.18.1\n",
      "\n",
      "CID: bafybeigoe4ss23hrahns7sbqus6tas4ovvnhupmrnrym5zluu2ssg5yj5u not found in local IPFS node. Attempting to fetch from IPFS network via local node.\n",
      "IPFS daemon not running. Please start IPFS daemon by running 'ipfs daemon' or installing the IPFS desktop app and starting it.\n"
     ]
    },
    {
     "name": "stderr",
     "output_type": "stream",
     "text": [
      "Error: path 'bafybeigoe4ss23hrahns7sbqus6tas4ovvnhupmrnrym5zluu2ssg5yj5u' is not pinned\n",
      "Error: this action must be run in online mode, try running 'ipfs daemon' first\n"
     ]
    },
    {
     "name": "stdout",
     "output_type": "stream",
     "text": [
      "CID not found on IPFS network via Gateway.\n",
      "Now Attempting to fetch CID from IPFS network via cid.contact API\n",
      "{'MultihashResults': [{'Multihash': 'EiDOJyUtbPEB2y/IMKS9MEuOrVp6PZFscM7ldKalI3cJ7Q==', 'ProviderResults': [{'ContextID': 'AXESIDcq3d4jIXyKPakgB9cF4U/X63GCyK7GH2InoVTVA8rx', 'Metadata': 'kBKjaFBpZWNlQ0lE2CpYKAABgeIDkiAgVqGOPf5CFwUwts6ep8cOwdFYqs9uVsAVgjXV5auHyytsVmVyaWZpZWREZWFs9W1GYXN0UmV0cmlldmFs9Q==', 'Provider': {'ID': '12D3KooWQY8k3XoH76BPPPXsrP5BWzTHpfC78u9aHS5FdTx2EXKZ', 'Addrs': ['/ip4/38.70.220.40/tcp/10201']}}]}]}\n",
      "Trying Storage Provider ID: 12D3KooWQY8k3XoH76BPPPXsrP5BWzTHpfC78u9aHS5FdTx2EXKZ found via cid.contact API\n"
     ]
    },
    {
     "ename": "ModuleNotFoundError",
     "evalue": "No module named 'graphsync'",
     "output_type": "error",
     "traceback": [
      "\u001b[0;31m---------------------------------------------------------------------------\u001b[0m",
      "\u001b[0;31mModuleNotFoundError\u001b[0m                       Traceback (most recent call last)",
      "Cell \u001b[0;32mIn[4], line 28\u001b[0m\n\u001b[1;32m     24\u001b[0m     \u001b[39mprint\u001b[39m(\u001b[39m\"\u001b[39m\u001b[39mData was not found on IPFS or Filecoin via any method.\u001b[39m\u001b[39m\"\u001b[39m)\n\u001b[1;32m     25\u001b[0m     \u001b[39mreturn\u001b[39;00m \u001b[39mNone\u001b[39;00m\n\u001b[0;32m---> 28\u001b[0m data \u001b[39m=\u001b[39m get_data(cid)\n",
      "Cell \u001b[0;32mIn[4], line 20\u001b[0m, in \u001b[0;36mget_data\u001b[0;34m(cid)\u001b[0m\n\u001b[1;32m     18\u001b[0m \u001b[39mprint\u001b[39m(\u001b[39m\"\u001b[39m\u001b[39mCID not found on IPFS network via Gateway.\u001b[39m\u001b[39m\"\u001b[39m)\n\u001b[1;32m     19\u001b[0m \u001b[39mprint\u001b[39m(\u001b[39m\"\u001b[39m\u001b[39mNow Attempting to fetch CID from IPFS network via cid.contact API\u001b[39m\u001b[39m\"\u001b[39m)\n\u001b[0;32m---> 20\u001b[0m data \u001b[39m=\u001b[39m get_data_from_filecoin(cid)\n\u001b[1;32m     21\u001b[0m \u001b[39mif\u001b[39;00m data \u001b[39mis\u001b[39;00m \u001b[39mnot\u001b[39;00m \u001b[39mNone\u001b[39;00m:\n\u001b[1;32m     22\u001b[0m     \u001b[39mreturn\u001b[39;00m data\n",
      "Cell \u001b[0;32mIn[2], line 85\u001b[0m, in \u001b[0;36mget_data_from_filecoin\u001b[0;34m(cid)\u001b[0m\n\u001b[1;32m     82\u001b[0m \u001b[39mprint\u001b[39m(\u001b[39mf\u001b[39m\u001b[39m\"\u001b[39m\u001b[39mTrying Storage Provider ID: \u001b[39m\u001b[39m{\u001b[39;00mstorage_provider_id\u001b[39m}\u001b[39;00m\u001b[39m found via cid.contact API\u001b[39m\u001b[39m\"\u001b[39m)\n\u001b[1;32m     84\u001b[0m \u001b[39m# Try to get the data from the storage provider\u001b[39;00m\n\u001b[0;32m---> 85\u001b[0m provider_data \u001b[39m=\u001b[39m request_data_from_storage_provider(storage_provider_id, cid)\n\u001b[1;32m     87\u001b[0m \u001b[39m# If we successfully got data, return it\u001b[39;00m\n\u001b[1;32m     88\u001b[0m \u001b[39mif\u001b[39;00m provider_data:\n",
      "Cell \u001b[0;32mIn[2], line 104\u001b[0m, in \u001b[0;36mrequest_data_from_storage_provider\u001b[0;34m(provider_id, cid)\u001b[0m\n\u001b[1;32m    102\u001b[0m \u001b[39mdef\u001b[39;00m \u001b[39mrequest_data_from_storage_provider\u001b[39m(provider_id: \u001b[39mstr\u001b[39m, cid: \u001b[39mstr\u001b[39m) \u001b[39m-\u001b[39m\u001b[39m>\u001b[39m \u001b[39mbytes\u001b[39m:\n\u001b[1;32m    103\u001b[0m     \u001b[39m# Import necessary libraries\u001b[39;00m\n\u001b[0;32m--> 104\u001b[0m     \u001b[39mimport\u001b[39;00m \u001b[39mgraphsync\u001b[39;00m\n\u001b[1;32m    105\u001b[0m     \u001b[39mimport\u001b[39;00m \u001b[39mlibp2p\u001b[39;00m\n\u001b[1;32m    107\u001b[0m     \u001b[39m# Assuming we have an established libp2p host\u001b[39;00m\n",
      "\u001b[0;31mModuleNotFoundError\u001b[0m: No module named 'graphsync'"
     ]
    }
   ],
   "source": [
    "cid = (\n",
    "    \"bafybeigoe4ss23hrahns7sbqus6tas4ovvnhupmrnrym5zluu2ssg5yj5u\"  # CID of of a Landsat 9 .tif file\n",
    ")\n",
    "\n",
    "\n",
    "def get_data(cid: str) -> bytes:\n",
    "    if check_ipfs_installed():\n",
    "        data = get_data_from_local_ipfs_node(cid)\n",
    "\n",
    "    else:\n",
    "        print(\"Local IPFS Node not detected. Please install IPFS and start the daemon.\")\n",
    "        print(\"Now Attempting to fetch CID from IPFS network via Gateway\")\n",
    "        data = get_data_from_ipfs_network_using_gateway(cid)\n",
    "\n",
    "    if data:\n",
    "        return data\n",
    "\n",
    "    print(\"CID not found on IPFS network via Gateway.\")\n",
    "    print(\"Now Attempting to fetch CID from IPFS network via cid.contact API\")\n",
    "    data = get_data_from_filecoin(cid)\n",
    "    if data is not None:\n",
    "        return data\n",
    "\n",
    "    print(\"Data was not found on IPFS or Filecoin via any method.\")\n",
    "    return None\n",
    "\n",
    "\n",
    "data = get_data(cid)"
   ]
  }
 ],
 "metadata": {
  "kernelspec": {
   "display_name": "venv",
   "language": "python",
   "name": "python3"
  },
  "language_info": {
   "codemirror_mode": {
    "name": "ipython",
    "version": 3
   },
   "file_extension": ".py",
   "mimetype": "text/x-python",
   "name": "python",
   "nbconvert_exporter": "python",
   "pygments_lexer": "ipython3",
   "version": "3.11.3"
  },
  "orig_nbformat": 4
 },
 "nbformat": 4,
 "nbformat_minor": 2
}
